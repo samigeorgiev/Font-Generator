{
 "cells": [
  {
   "cell_type": "markdown",
   "metadata": {},
   "source": [
    "### Load necessary packages"
   ]
  },
  {
   "cell_type": "code",
   "execution_count": 1,
   "metadata": {},
   "outputs": [],
   "source": [
    "import torch\n",
    "import torch.optim as optim\n",
    "\n",
    "from dataset import FontsLoader\n",
    "from models import AutoEncoder"
   ]
  },
  {
   "cell_type": "markdown",
   "metadata": {},
   "source": [
    "### Setup the device on which to train"
   ]
  },
  {
   "cell_type": "code",
   "execution_count": 2,
   "metadata": {},
   "outputs": [
    {
     "name": "stdout",
     "output_type": "stream",
     "text": [
      "Device: cuda\n"
     ]
    }
   ],
   "source": [
    "device = torch.device('cuda' if torch.cuda.is_available() else 'cpu')\n",
    "print('Device:', device)"
   ]
  },
  {
   "cell_type": "code",
   "execution_count": 3,
   "metadata": {},
   "outputs": [],
   "source": [
    "if device.type == 'cuda':\n",
    "    torch.cuda.empty_cache()"
   ]
  },
  {
   "cell_type": "markdown",
   "metadata": {},
   "source": [
    "### Load the data"
   ]
  },
  {
   "cell_type": "code",
   "execution_count": 4,
   "metadata": {},
   "outputs": [],
   "source": [
    "set_loader = FontsLoader.get_set_loader()"
   ]
  },
  {
   "cell_type": "markdown",
   "metadata": {},
   "source": [
    "### Build the Net"
   ]
  },
  {
   "cell_type": "code",
   "execution_count": 5,
   "metadata": {},
   "outputs": [],
   "source": [
    "net = AutoEncoder(\n",
    "    latent_dim=512,\n",
    "    in_channels=1,\n",
    "    num_hiddens=256,\n",
    "    num_res_hiddens=64,\n",
    "    num_res_layers=4,\n",
    "    out_channels=1\n",
    ").to(device)"
   ]
  },
  {
   "cell_type": "markdown",
   "metadata": {},
   "source": [
    "## Train loop"
   ]
  },
  {
   "cell_type": "code",
   "execution_count": 6,
   "metadata": {},
   "outputs": [],
   "source": [
    "def train(epochs=100):\n",
    "    print('='*10, end='')\n",
    "    print(' TRAIN', end=' ') \n",
    "    print('='*10, end='\\n\\n')\n",
    "    net.train()\n",
    "\n",
    "    for epoch in range(1, epochs+1):\n",
    "        running_loss = 0\n",
    "\n",
    "        for i, batch in enumerate(set_loader, 1):\n",
    "            images = batch['image']\n",
    "            images = images.to(device)\n",
    "            \n",
    "            # Zero grad\n",
    "            optimizer.zero_grad()\n",
    "            \n",
    "            # Forward\n",
    "            z, recon = net(images)\n",
    "            # Compute Loss\n",
    "            loss_value = net.loss_function(images, recon)\n",
    "            running_loss += loss_value.item()\n",
    "            # Backward\n",
    "            loss_value.backward()\n",
    "            # Update\n",
    "            optimizer.step()\n",
    "\n",
    "            if i % 5 == 0:\n",
    "                print(f'==> EPOCH[{epoch}]({i}/{len(set_loader)}): LOSS: {loss_value.item()}')\n",
    "        \n",
    "        # Decrease LR\n",
    "        lr_scheduler.step()\n",
    "        \n",
    "        print(f'=====> EPOCH[{epoch}] Completed: Avg. LOSS: {running_loss/len(set_loader)}')\n",
    "        print()\n",
    "        \n",
    "    net.eval()"
   ]
  },
  {
   "cell_type": "markdown",
   "metadata": {},
   "source": [
    "### Init optimizer and train"
   ]
  },
  {
   "cell_type": "code",
   "execution_count": 7,
   "metadata": {},
   "outputs": [],
   "source": [
    "optimizer = optim.Adam(net.parameters(), lr=1e-3)\n",
    "lr_scheduler = optim.lr_scheduler.ExponentialLR(optimizer, gamma=0.9)"
   ]
  },
  {
   "cell_type": "code",
   "execution_count": 8,
   "metadata": {
    "scrolled": true
   },
   "outputs": [
    {
     "name": "stdout",
     "output_type": "stream",
     "text": [
      "========== TRAIN ==========\n",
      "\n",
      "==> EPOCH[1](5/59): LOSS: 1.2121385335922241\n",
      "==> EPOCH[1](10/59): LOSS: 0.4766406714916229\n",
      "==> EPOCH[1](15/59): LOSS: 0.3405570685863495\n",
      "==> EPOCH[1](20/59): LOSS: 0.263521671295166\n",
      "==> EPOCH[1](25/59): LOSS: 0.20399627089500427\n",
      "==> EPOCH[1](30/59): LOSS: 0.1770455539226532\n",
      "==> EPOCH[1](35/59): LOSS: 0.1739151030778885\n",
      "==> EPOCH[1](40/59): LOSS: 0.15844199061393738\n",
      "==> EPOCH[1](45/59): LOSS: 0.1453578770160675\n",
      "==> EPOCH[1](50/59): LOSS: 0.14417175948619843\n",
      "==> EPOCH[1](55/59): LOSS: 0.13143311440944672\n",
      "=====> EPOCH[1] Completed: Avg. LOSS: 0.42104245318194566\n",
      "\n",
      "==> EPOCH[2](5/59): LOSS: 0.08923208713531494\n",
      "==> EPOCH[2](10/59): LOSS: 0.07781997323036194\n",
      "==> EPOCH[2](15/59): LOSS: 0.07281296700239182\n",
      "==> EPOCH[2](20/59): LOSS: 0.06618686765432358\n",
      "==> EPOCH[2](25/59): LOSS: 0.06178554147481918\n",
      "==> EPOCH[2](30/59): LOSS: 0.05492504686117172\n",
      "==> EPOCH[2](35/59): LOSS: 0.06130988150835037\n",
      "==> EPOCH[2](40/59): LOSS: 0.052529070526361465\n",
      "==> EPOCH[2](45/59): LOSS: 0.04821160063147545\n",
      "==> EPOCH[2](50/59): LOSS: 0.047723717987537384\n",
      "==> EPOCH[2](55/59): LOSS: 0.04204580560326576\n",
      "=====> EPOCH[2] Completed: Avg. LOSS: 0.06296158765079611\n",
      "\n",
      "==> EPOCH[3](5/59): LOSS: 0.04119730368256569\n",
      "==> EPOCH[3](10/59): LOSS: 0.03783782571554184\n",
      "==> EPOCH[3](15/59): LOSS: 0.03675422444939613\n",
      "==> EPOCH[3](20/59): LOSS: 0.037482570856809616\n",
      "==> EPOCH[3](25/59): LOSS: 0.03861048445105553\n",
      "==> EPOCH[3](30/59): LOSS: 0.03679819032549858\n",
      "==> EPOCH[3](35/59): LOSS: 0.0378771536052227\n",
      "==> EPOCH[3](40/59): LOSS: 0.037655480206012726\n",
      "==> EPOCH[3](45/59): LOSS: 0.035392239689826965\n",
      "==> EPOCH[3](50/59): LOSS: 0.03530551865696907\n",
      "==> EPOCH[3](55/59): LOSS: 0.03543943166732788\n",
      "=====> EPOCH[3] Completed: Avg. LOSS: 0.038116101996373324\n",
      "\n",
      "==> EPOCH[4](5/59): LOSS: 0.03354465588927269\n",
      "==> EPOCH[4](10/59): LOSS: 0.03246505931019783\n",
      "==> EPOCH[4](15/59): LOSS: 0.03308020532131195\n",
      "==> EPOCH[4](20/59): LOSS: 0.03462134674191475\n",
      "==> EPOCH[4](25/59): LOSS: 0.032083310186862946\n",
      "==> EPOCH[4](30/59): LOSS: 0.039514243602752686\n",
      "==> EPOCH[4](35/59): LOSS: 0.03655785694718361\n",
      "==> EPOCH[4](40/59): LOSS: 0.032092660665512085\n",
      "==> EPOCH[4](45/59): LOSS: 0.031068509444594383\n",
      "==> EPOCH[4](50/59): LOSS: 0.03217654302716255\n",
      "==> EPOCH[4](55/59): LOSS: 0.031082510948181152\n",
      "=====> EPOCH[4] Completed: Avg. LOSS: 0.03381567290526325\n",
      "\n",
      "==> EPOCH[5](5/59): LOSS: 0.03188731148838997\n",
      "==> EPOCH[5](10/59): LOSS: 0.03126918151974678\n",
      "==> EPOCH[5](15/59): LOSS: 0.03303595259785652\n",
      "==> EPOCH[5](20/59): LOSS: 0.030458688735961914\n",
      "==> EPOCH[5](25/59): LOSS: 0.030726337805390358\n",
      "==> EPOCH[5](30/59): LOSS: 0.0341581366956234\n",
      "==> EPOCH[5](35/59): LOSS: 0.031150000169873238\n",
      "==> EPOCH[5](40/59): LOSS: 0.03154447674751282\n",
      "==> EPOCH[5](45/59): LOSS: 0.033275917172431946\n",
      "==> EPOCH[5](50/59): LOSS: 0.029821990057826042\n",
      "==> EPOCH[5](55/59): LOSS: 0.02993845008313656\n",
      "=====> EPOCH[5] Completed: Avg. LOSS: 0.031685401290907696\n",
      "\n",
      "==> EPOCH[6](5/59): LOSS: 0.031222373247146606\n",
      "==> EPOCH[6](10/59): LOSS: 0.03264797106385231\n",
      "==> EPOCH[6](15/59): LOSS: 0.031740494072437286\n",
      "==> EPOCH[6](20/59): LOSS: 0.029421288520097733\n",
      "==> EPOCH[6](25/59): LOSS: 0.028543664142489433\n",
      "==> EPOCH[6](30/59): LOSS: 0.033199332654476166\n",
      "==> EPOCH[6](35/59): LOSS: 0.02982141077518463\n",
      "==> EPOCH[6](40/59): LOSS: 0.03037284128367901\n",
      "==> EPOCH[6](45/59): LOSS: 0.028543930500745773\n",
      "==> EPOCH[6](50/59): LOSS: 0.029579488560557365\n",
      "==> EPOCH[6](55/59): LOSS: 0.029825232923030853\n",
      "=====> EPOCH[6] Completed: Avg. LOSS: 0.03055766584762072\n",
      "\n",
      "==> EPOCH[7](5/59): LOSS: 0.02966579608619213\n",
      "==> EPOCH[7](10/59): LOSS: 0.032178111374378204\n",
      "==> EPOCH[7](15/59): LOSS: 0.02888435311615467\n",
      "==> EPOCH[7](20/59): LOSS: 0.029434574767947197\n",
      "==> EPOCH[7](25/59): LOSS: 0.03299060836434364\n",
      "==> EPOCH[7](30/59): LOSS: 0.03047827258706093\n",
      "==> EPOCH[7](35/59): LOSS: 0.02896394580602646\n",
      "==> EPOCH[7](40/59): LOSS: 0.030184274539351463\n",
      "==> EPOCH[7](45/59): LOSS: 0.02838042750954628\n",
      "==> EPOCH[7](50/59): LOSS: 0.030106840655207634\n",
      "==> EPOCH[7](55/59): LOSS: 0.028036871924996376\n",
      "=====> EPOCH[7] Completed: Avg. LOSS: 0.029675150921536705\n",
      "\n",
      "==> EPOCH[8](5/59): LOSS: 0.028793957084417343\n",
      "==> EPOCH[8](10/59): LOSS: 0.029810549691319466\n",
      "==> EPOCH[8](15/59): LOSS: 0.02852434292435646\n",
      "==> EPOCH[8](20/59): LOSS: 0.028838731348514557\n",
      "==> EPOCH[8](25/59): LOSS: 0.033271703869104385\n",
      "==> EPOCH[8](30/59): LOSS: 0.028535105288028717\n",
      "==> EPOCH[8](35/59): LOSS: 0.030116409063339233\n",
      "==> EPOCH[8](40/59): LOSS: 0.029163138940930367\n",
      "==> EPOCH[8](45/59): LOSS: 0.02793794684112072\n",
      "==> EPOCH[8](50/59): LOSS: 0.027925394475460052\n",
      "==> EPOCH[8](55/59): LOSS: 0.027802659198641777\n",
      "=====> EPOCH[8] Completed: Avg. LOSS: 0.029166550738579135\n",
      "\n",
      "==> EPOCH[9](5/59): LOSS: 0.027835074812173843\n",
      "==> EPOCH[9](10/59): LOSS: 0.02977987751364708\n",
      "==> EPOCH[9](15/59): LOSS: 0.02775009348988533\n",
      "==> EPOCH[9](20/59): LOSS: 0.029458466917276382\n",
      "==> EPOCH[9](25/59): LOSS: 0.027894211933016777\n",
      "==> EPOCH[9](30/59): LOSS: 0.027932310476899147\n",
      "==> EPOCH[9](35/59): LOSS: 0.03053424321115017\n",
      "==> EPOCH[9](40/59): LOSS: 0.02800944447517395\n",
      "==> EPOCH[9](45/59): LOSS: 0.02809574082493782\n",
      "==> EPOCH[9](50/59): LOSS: 0.030794182792305946\n",
      "==> EPOCH[9](55/59): LOSS: 0.028370294719934464\n",
      "=====> EPOCH[9] Completed: Avg. LOSS: 0.02877811992825088\n",
      "\n",
      "==> EPOCH[10](5/59): LOSS: 0.028399111703038216\n",
      "==> EPOCH[10](10/59): LOSS: 0.028568124398589134\n",
      "==> EPOCH[10](15/59): LOSS: 0.027504179626703262\n",
      "==> EPOCH[10](20/59): LOSS: 0.02882556989789009\n",
      "==> EPOCH[10](25/59): LOSS: 0.028216268867254257\n",
      "==> EPOCH[10](30/59): LOSS: 0.026640884578227997\n",
      "==> EPOCH[10](35/59): LOSS: 0.02778715081512928\n",
      "==> EPOCH[10](40/59): LOSS: 0.028742529451847076\n",
      "==> EPOCH[10](45/59): LOSS: 0.0315806046128273\n",
      "==> EPOCH[10](50/59): LOSS: 0.02788550592958927\n",
      "==> EPOCH[10](55/59): LOSS: 0.02832881733775139\n",
      "=====> EPOCH[10] Completed: Avg. LOSS: 0.028443159977510825\n",
      "\n",
      "==> EPOCH[11](5/59): LOSS: 0.026776956394314766\n",
      "==> EPOCH[11](10/59): LOSS: 0.027262931689620018\n",
      "==> EPOCH[11](15/59): LOSS: 0.028270961716771126\n",
      "==> EPOCH[11](20/59): LOSS: 0.028413746505975723\n",
      "==> EPOCH[11](25/59): LOSS: 0.029617158696055412\n",
      "==> EPOCH[11](30/59): LOSS: 0.026501838117837906\n",
      "==> EPOCH[11](35/59): LOSS: 0.032949723303318024\n",
      "==> EPOCH[11](40/59): LOSS: 0.027839697897434235\n"
     ]
    },
    {
     "ename": "KeyboardInterrupt",
     "evalue": "",
     "output_type": "error",
     "traceback": [
      "\u001b[0;31m---------------------------------------------------------------------------\u001b[0m",
      "\u001b[0;31mKeyboardInterrupt\u001b[0m                         Traceback (most recent call last)",
      "\u001b[0;32m<ipython-input-8-2da0ffaf5447>\u001b[0m in \u001b[0;36m<module>\u001b[0;34m\u001b[0m\n\u001b[0;32m----> 1\u001b[0;31m \u001b[0mtrain\u001b[0m\u001b[0;34m(\u001b[0m\u001b[0;34m)\u001b[0m\u001b[0;34m\u001b[0m\u001b[0;34m\u001b[0m\u001b[0m\n\u001b[0m",
      "\u001b[0;32m<ipython-input-6-0a9a1cbfb29c>\u001b[0m in \u001b[0;36mtrain\u001b[0;34m(epochs)\u001b[0m\n\u001b[1;32m     18\u001b[0m             \u001b[0mz\u001b[0m\u001b[0;34m,\u001b[0m \u001b[0mrecon\u001b[0m \u001b[0;34m=\u001b[0m \u001b[0mnet\u001b[0m\u001b[0;34m(\u001b[0m\u001b[0mimages\u001b[0m\u001b[0;34m)\u001b[0m\u001b[0;34m\u001b[0m\u001b[0;34m\u001b[0m\u001b[0m\n\u001b[1;32m     19\u001b[0m             \u001b[0;31m# Compute Loss\u001b[0m\u001b[0;34m\u001b[0m\u001b[0;34m\u001b[0m\u001b[0;34m\u001b[0m\u001b[0m\n\u001b[0;32m---> 20\u001b[0;31m             \u001b[0mloss_value\u001b[0m \u001b[0;34m=\u001b[0m \u001b[0mnet\u001b[0m\u001b[0;34m.\u001b[0m\u001b[0mloss_function\u001b[0m\u001b[0;34m(\u001b[0m\u001b[0mimages\u001b[0m\u001b[0;34m,\u001b[0m \u001b[0mrecon\u001b[0m\u001b[0;34m)\u001b[0m\u001b[0;34m\u001b[0m\u001b[0;34m\u001b[0m\u001b[0m\n\u001b[0m\u001b[1;32m     21\u001b[0m             \u001b[0mrunning_loss\u001b[0m \u001b[0;34m+=\u001b[0m \u001b[0mloss_value\u001b[0m\u001b[0;34m.\u001b[0m\u001b[0mitem\u001b[0m\u001b[0;34m(\u001b[0m\u001b[0;34m)\u001b[0m\u001b[0;34m\u001b[0m\u001b[0;34m\u001b[0m\u001b[0m\n\u001b[1;32m     22\u001b[0m             \u001b[0;31m# Backward\u001b[0m\u001b[0;34m\u001b[0m\u001b[0;34m\u001b[0m\u001b[0;34m\u001b[0m\u001b[0m\n",
      "\u001b[0;32m/notebooks/Font-Generator/neural/models/autoencoder.py\u001b[0m in \u001b[0;36mloss_function\u001b[0;34m(self, x, recon_x)\u001b[0m\n\u001b[1;32m     34\u001b[0m \u001b[0;34m\u001b[0m\u001b[0m\n\u001b[1;32m     35\u001b[0m     \u001b[0;32mdef\u001b[0m \u001b[0mloss_function\u001b[0m\u001b[0;34m(\u001b[0m\u001b[0mself\u001b[0m\u001b[0;34m,\u001b[0m \u001b[0mx\u001b[0m\u001b[0;34m,\u001b[0m \u001b[0mrecon_x\u001b[0m\u001b[0;34m)\u001b[0m\u001b[0;34m:\u001b[0m\u001b[0;34m\u001b[0m\u001b[0;34m\u001b[0m\u001b[0m\n\u001b[0;32m---> 36\u001b[0;31m         \u001b[0;32mreturn\u001b[0m \u001b[0mF\u001b[0m\u001b[0;34m.\u001b[0m\u001b[0mbinary_cross_entropy\u001b[0m\u001b[0;34m(\u001b[0m\u001b[0mrecon_x\u001b[0m\u001b[0;34m,\u001b[0m \u001b[0mx\u001b[0m\u001b[0;34m)\u001b[0m\u001b[0;34m\u001b[0m\u001b[0;34m\u001b[0m\u001b[0m\n\u001b[0m",
      "\u001b[0;32m/usr/local/lib/python3.6/dist-packages/torch/nn/functional.py\u001b[0m in \u001b[0;36mbinary_cross_entropy\u001b[0;34m(input, target, weight, size_average, reduce, reduction)\u001b[0m\n\u001b[1;32m   2049\u001b[0m \u001b[0;34m\u001b[0m\u001b[0m\n\u001b[1;32m   2050\u001b[0m     return torch._C._nn.binary_cross_entropy(\n\u001b[0;32m-> 2051\u001b[0;31m         input, target, weight, reduction_enum)\n\u001b[0m\u001b[1;32m   2052\u001b[0m \u001b[0;34m\u001b[0m\u001b[0m\n\u001b[1;32m   2053\u001b[0m \u001b[0;34m\u001b[0m\u001b[0m\n",
      "\u001b[0;31mKeyboardInterrupt\u001b[0m: "
     ]
    }
   ],
   "source": [
    "train()"
   ]
  },
  {
   "cell_type": "code",
   "execution_count": 9,
   "metadata": {},
   "outputs": [],
   "source": [
    "torch.save(net.state_dict(), open('./checkpoints/ae-512-224x224-loss-0.028.pth', 'wb'))"
   ]
  },
  {
   "cell_type": "code",
   "execution_count": null,
   "metadata": {},
   "outputs": [],
   "source": []
  }
 ],
 "metadata": {
  "kernelspec": {
   "display_name": "Python 3",
   "language": "python",
   "name": "python3"
  },
  "language_info": {
   "codemirror_mode": {
    "name": "ipython",
    "version": 3
   },
   "file_extension": ".py",
   "mimetype": "text/x-python",
   "name": "python",
   "nbconvert_exporter": "python",
   "pygments_lexer": "ipython3",
   "version": "3.6.8"
  }
 },
 "nbformat": 4,
 "nbformat_minor": 4
}
