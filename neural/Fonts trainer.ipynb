{
 "cells": [
  {
   "cell_type": "markdown",
   "metadata": {},
   "source": [
    "### Load necessary packages"
   ]
  },
  {
   "cell_type": "code",
   "execution_count": 1,
   "metadata": {},
   "outputs": [],
   "source": [
    "import torch\n",
    "import torch.optim as optim\n",
    "\n",
    "from dataset import FontsLoader\n",
    "from models import VAE"
   ]
  },
  {
   "cell_type": "markdown",
   "metadata": {},
   "source": [
    "### Setup the device on which to train"
   ]
  },
  {
   "cell_type": "code",
   "execution_count": 2,
   "metadata": {},
   "outputs": [
    {
     "name": "stdout",
     "output_type": "stream",
     "text": [
      "Device: cuda\n"
     ]
    }
   ],
   "source": [
    "device = torch.device('cuda' if torch.cuda.is_available() else 'cpu')\n",
    "print('Device:', device)"
   ]
  },
  {
   "cell_type": "code",
   "execution_count": 3,
   "metadata": {},
   "outputs": [],
   "source": [
    "if device.type == 'cuda':\n",
    "    torch.cuda.empty_cache()"
   ]
  },
  {
   "cell_type": "markdown",
   "metadata": {},
   "source": [
    "### Load the data"
   ]
  },
  {
   "cell_type": "code",
   "execution_count": 4,
   "metadata": {},
   "outputs": [],
   "source": [
    "set_loader = FontsLoader.get_set_loader()"
   ]
  },
  {
   "cell_type": "markdown",
   "metadata": {},
   "source": [
    "### Build the Net"
   ]
  },
  {
   "cell_type": "code",
   "execution_count": 5,
   "metadata": {},
   "outputs": [],
   "source": [
    "net = VAE(\n",
    "    latent_dim=128,\n",
    "    beta=5,\n",
    "    in_channels=1,\n",
    "    num_hiddens=256,\n",
    "    num_res_hiddens=64,\n",
    "    num_res_layers=4,\n",
    "    out_channels=1,\n",
    ").to(device)"
   ]
  },
  {
   "cell_type": "markdown",
   "metadata": {},
   "source": [
    "## Train loop"
   ]
  },
  {
   "cell_type": "code",
   "execution_count": 6,
   "metadata": {},
   "outputs": [],
   "source": [
    "def train(epochs=100):\n",
    "    print('='*10, end='')\n",
    "    print(' TRAIN', end=' ') \n",
    "    print('='*10, end='\\n\\n')\n",
    "    net.train()\n",
    "\n",
    "    for epoch in range(1, epochs+1):\n",
    "        running_loss = 0\n",
    "\n",
    "        for i, batch in enumerate(set_loader, 1):\n",
    "            images = batch['image']\n",
    "            images = images.to(device)\n",
    "            \n",
    "            # Zero grad\n",
    "            optimizer.zero_grad()\n",
    "            \n",
    "            # Forward\n",
    "            mu, logvar, z, recon = net(images)\n",
    "            # Compute Loss\n",
    "            loss_value = net.loss_function(images, recon, mu, logvar)\n",
    "            running_loss += loss_value.item()\n",
    "            # Backward\n",
    "            loss_value.backward()\n",
    "            # Update\n",
    "            optimizer.step()\n",
    "\n",
    "            if i % 5 == 0:\n",
    "                print(f'==> EPOCH[{epoch}]({i}/{len(set_loader)}): LOSS: {loss_value.item()}')\n",
    "        \n",
    "        # Decrease LR\n",
    "        lr_scheduler.step()\n",
    "        \n",
    "        print(f'=====> EPOCH[{epoch}] Completed: Avg. LOSS: {running_loss/len(set_loader)}')\n",
    "        print()\n",
    "        \n",
    "    net.eval()"
   ]
  },
  {
   "cell_type": "markdown",
   "metadata": {},
   "source": [
    "### Init optimizer and train"
   ]
  },
  {
   "cell_type": "code",
   "execution_count": 13,
   "metadata": {},
   "outputs": [],
   "source": [
    "optimizer = optim.Adam(net.parameters(), lr=1e-7)\n",
    "lr_scheduler = optim.lr_scheduler.ExponentialLR(optimizer, gamma=0.9)"
   ]
  },
  {
   "cell_type": "code",
   "execution_count": 14,
   "metadata": {
    "scrolled": true
   },
   "outputs": [
    {
     "name": "stdout",
     "output_type": "stream",
     "text": [
      "========== TRAIN ==========\n",
      "\n",
      "==> EPOCH[1](5/59): LOSS: 0.3812302350997925\n",
      "==> EPOCH[1](10/59): LOSS: 0.37514233589172363\n",
      "==> EPOCH[1](15/59): LOSS: 0.3844597041606903\n",
      "==> EPOCH[1](20/59): LOSS: 0.37093761563301086\n",
      "==> EPOCH[1](25/59): LOSS: 0.3812357783317566\n",
      "==> EPOCH[1](30/59): LOSS: 0.3675537407398224\n",
      "==> EPOCH[1](35/59): LOSS: 0.38718488812446594\n",
      "==> EPOCH[1](40/59): LOSS: 0.4050031006336212\n",
      "==> EPOCH[1](45/59): LOSS: 0.37270650267601013\n",
      "==> EPOCH[1](50/59): LOSS: 0.37772539258003235\n",
      "==> EPOCH[1](55/59): LOSS: 0.3626149594783783\n",
      "=====> EPOCH[1] Completed: Avg. LOSS: 0.3816200626098504\n",
      "\n",
      "==> EPOCH[2](5/59): LOSS: 0.3702203035354614\n",
      "==> EPOCH[2](10/59): LOSS: 0.3742978870868683\n",
      "==> EPOCH[2](15/59): LOSS: 0.39860814809799194\n",
      "==> EPOCH[2](20/59): LOSS: 0.3905717730522156\n",
      "==> EPOCH[2](25/59): LOSS: 0.3924049735069275\n",
      "==> EPOCH[2](30/59): LOSS: 0.37736549973487854\n",
      "==> EPOCH[2](35/59): LOSS: 0.38443100452423096\n",
      "==> EPOCH[2](40/59): LOSS: 0.389833003282547\n",
      "==> EPOCH[2](45/59): LOSS: 0.37701845169067383\n",
      "==> EPOCH[2](50/59): LOSS: 0.37695470452308655\n",
      "==> EPOCH[2](55/59): LOSS: 0.387658953666687\n",
      "=====> EPOCH[2] Completed: Avg. LOSS: 0.38139318510637443\n",
      "\n",
      "==> EPOCH[3](5/59): LOSS: 0.38414090871810913\n",
      "==> EPOCH[3](10/59): LOSS: 0.37942203879356384\n",
      "==> EPOCH[3](15/59): LOSS: 0.3824300765991211\n",
      "==> EPOCH[3](20/59): LOSS: 0.3809219002723694\n",
      "==> EPOCH[3](25/59): LOSS: 0.39230528473854065\n",
      "==> EPOCH[3](30/59): LOSS: 0.3942022919654846\n",
      "==> EPOCH[3](35/59): LOSS: 0.3760187327861786\n",
      "==> EPOCH[3](40/59): LOSS: 0.3777444660663605\n",
      "==> EPOCH[3](45/59): LOSS: 0.38943156599998474\n",
      "==> EPOCH[3](50/59): LOSS: 0.38115912675857544\n",
      "==> EPOCH[3](55/59): LOSS: 0.39100420475006104\n",
      "=====> EPOCH[3] Completed: Avg. LOSS: 0.381076193967108\n",
      "\n",
      "==> EPOCH[4](5/59): LOSS: 0.37547504901885986\n",
      "==> EPOCH[4](10/59): LOSS: 0.3797056972980499\n",
      "==> EPOCH[4](15/59): LOSS: 0.3946467936038971\n",
      "==> EPOCH[4](20/59): LOSS: 0.37740346789360046\n",
      "==> EPOCH[4](25/59): LOSS: 0.38418450951576233\n",
      "==> EPOCH[4](30/59): LOSS: 0.3850553333759308\n",
      "==> EPOCH[4](35/59): LOSS: 0.38957932591438293\n",
      "==> EPOCH[4](40/59): LOSS: 0.3800489008426666\n",
      "==> EPOCH[4](45/59): LOSS: 0.3689146041870117\n",
      "==> EPOCH[4](50/59): LOSS: 0.36251959204673767\n",
      "==> EPOCH[4](55/59): LOSS: 0.3911858797073364\n",
      "=====> EPOCH[4] Completed: Avg. LOSS: 0.38107464879246084\n",
      "\n",
      "==> EPOCH[5](5/59): LOSS: 0.35746097564697266\n",
      "==> EPOCH[5](10/59): LOSS: 0.3666682839393616\n",
      "==> EPOCH[5](15/59): LOSS: 0.40580254793167114\n",
      "==> EPOCH[5](20/59): LOSS: 0.376609206199646\n",
      "==> EPOCH[5](25/59): LOSS: 0.3732759654521942\n",
      "==> EPOCH[5](30/59): LOSS: 0.3710862100124359\n",
      "==> EPOCH[5](35/59): LOSS: 0.3979978859424591\n",
      "==> EPOCH[5](40/59): LOSS: 0.38418546319007874\n",
      "==> EPOCH[5](45/59): LOSS: 0.38582924008369446\n",
      "==> EPOCH[5](50/59): LOSS: 0.38609763979911804\n",
      "==> EPOCH[5](55/59): LOSS: 0.3637544512748718\n",
      "=====> EPOCH[5] Completed: Avg. LOSS: 0.38104781761007794\n",
      "\n",
      "==> EPOCH[6](5/59): LOSS: 0.36995843052864075\n",
      "==> EPOCH[6](10/59): LOSS: 0.3732761740684509\n",
      "==> EPOCH[6](15/59): LOSS: 0.3763653039932251\n",
      "==> EPOCH[6](20/59): LOSS: 0.4193054735660553\n",
      "==> EPOCH[6](25/59): LOSS: 0.37659984827041626\n",
      "==> EPOCH[6](30/59): LOSS: 0.3933763802051544\n",
      "==> EPOCH[6](35/59): LOSS: 0.3701421022415161\n",
      "==> EPOCH[6](40/59): LOSS: 0.37958621978759766\n",
      "==> EPOCH[6](45/59): LOSS: 0.3777144253253937\n",
      "==> EPOCH[6](50/59): LOSS: 0.36435556411743164\n",
      "==> EPOCH[6](55/59): LOSS: 0.4152424931526184\n",
      "=====> EPOCH[6] Completed: Avg. LOSS: 0.38083639488381854\n",
      "\n",
      "==> EPOCH[7](5/59): LOSS: 0.3804212510585785\n",
      "==> EPOCH[7](10/59): LOSS: 0.41384157538414\n",
      "==> EPOCH[7](15/59): LOSS: 0.37636899948120117\n",
      "==> EPOCH[7](20/59): LOSS: 0.38277119398117065\n",
      "==> EPOCH[7](25/59): LOSS: 0.38091880083084106\n",
      "==> EPOCH[7](30/59): LOSS: 0.3954699635505676\n",
      "==> EPOCH[7](35/59): LOSS: 0.3993414640426636\n",
      "==> EPOCH[7](40/59): LOSS: 0.3828192353248596\n",
      "==> EPOCH[7](45/59): LOSS: 0.37532103061676025\n",
      "==> EPOCH[7](50/59): LOSS: 0.3581218123435974\n",
      "==> EPOCH[7](55/59): LOSS: 0.38875675201416016\n",
      "=====> EPOCH[7] Completed: Avg. LOSS: 0.3807162147457317\n",
      "\n",
      "==> EPOCH[8](5/59): LOSS: 0.388220876455307\n",
      "==> EPOCH[8](10/59): LOSS: 0.3931967616081238\n",
      "==> EPOCH[8](15/59): LOSS: 0.3930659592151642\n",
      "==> EPOCH[8](20/59): LOSS: 0.38345077633857727\n",
      "==> EPOCH[8](25/59): LOSS: 0.3650586009025574\n",
      "==> EPOCH[8](30/59): LOSS: 0.3764170706272125\n",
      "==> EPOCH[8](35/59): LOSS: 0.3782220184803009\n",
      "==> EPOCH[8](40/59): LOSS: 0.3772798776626587\n",
      "==> EPOCH[8](45/59): LOSS: 0.3767802119255066\n",
      "==> EPOCH[8](50/59): LOSS: 0.37495550513267517\n",
      "==> EPOCH[8](55/59): LOSS: 0.3918912410736084\n",
      "=====> EPOCH[8] Completed: Avg. LOSS: 0.3805382676043753\n",
      "\n",
      "==> EPOCH[9](5/59): LOSS: 0.37055081129074097\n",
      "==> EPOCH[9](10/59): LOSS: 0.38317209482192993\n",
      "==> EPOCH[9](15/59): LOSS: 0.37389716506004333\n",
      "==> EPOCH[9](20/59): LOSS: 0.37229907512664795\n",
      "==> EPOCH[9](25/59): LOSS: 0.39251238107681274\n",
      "==> EPOCH[9](30/59): LOSS: 0.37025684118270874\n",
      "==> EPOCH[9](35/59): LOSS: 0.36912035942077637\n",
      "==> EPOCH[9](40/59): LOSS: 0.3721461594104767\n",
      "==> EPOCH[9](45/59): LOSS: 0.3725634217262268\n",
      "==> EPOCH[9](50/59): LOSS: 0.362047016620636\n",
      "==> EPOCH[9](55/59): LOSS: 0.4003291130065918\n",
      "=====> EPOCH[9] Completed: Avg. LOSS: 0.38042813994116703\n",
      "\n",
      "==> EPOCH[10](5/59): LOSS: 0.37640121579170227\n",
      "==> EPOCH[10](10/59): LOSS: 0.3930031359195709\n",
      "==> EPOCH[10](15/59): LOSS: 0.37295976281166077\n",
      "==> EPOCH[10](20/59): LOSS: 0.3674333095550537\n",
      "==> EPOCH[10](25/59): LOSS: 0.37717339396476746\n",
      "==> EPOCH[10](30/59): LOSS: 0.36035650968551636\n",
      "==> EPOCH[10](35/59): LOSS: 0.37354418635368347\n",
      "==> EPOCH[10](40/59): LOSS: 0.37262168526649475\n",
      "==> EPOCH[10](45/59): LOSS: 0.38173359632492065\n",
      "==> EPOCH[10](50/59): LOSS: 0.36271584033966064\n",
      "==> EPOCH[10](55/59): LOSS: 0.36550140380859375\n",
      "=====> EPOCH[10] Completed: Avg. LOSS: 0.38046414518760424\n",
      "\n",
      "==> EPOCH[11](5/59): LOSS: 0.3812742531299591\n",
      "==> EPOCH[11](10/59): LOSS: 0.37896594405174255\n",
      "==> EPOCH[11](15/59): LOSS: 0.37297260761260986\n",
      "==> EPOCH[11](20/59): LOSS: 0.38952386379241943\n",
      "==> EPOCH[11](25/59): LOSS: 0.3932272791862488\n",
      "==> EPOCH[11](30/59): LOSS: 0.3914705514907837\n",
      "==> EPOCH[11](35/59): LOSS: 0.3689228594303131\n",
      "==> EPOCH[11](40/59): LOSS: 0.3989752531051636\n",
      "==> EPOCH[11](45/59): LOSS: 0.3866950273513794\n",
      "==> EPOCH[11](50/59): LOSS: 0.37788233160972595\n",
      "==> EPOCH[11](55/59): LOSS: 0.3800605833530426\n",
      "=====> EPOCH[11] Completed: Avg. LOSS: 0.3804359370369022\n",
      "\n",
      "==> EPOCH[12](5/59): LOSS: 0.38362810015678406\n",
      "==> EPOCH[12](10/59): LOSS: 0.37120240926742554\n",
      "==> EPOCH[12](15/59): LOSS: 0.37953999638557434\n",
      "==> EPOCH[12](20/59): LOSS: 0.38938531279563904\n",
      "==> EPOCH[12](25/59): LOSS: 0.37815746665000916\n",
      "==> EPOCH[12](30/59): LOSS: 0.3812463581562042\n",
      "==> EPOCH[12](35/59): LOSS: 0.393361896276474\n",
      "==> EPOCH[12](40/59): LOSS: 0.38177981972694397\n",
      "==> EPOCH[12](45/59): LOSS: 0.3559938967227936\n",
      "==> EPOCH[12](50/59): LOSS: 0.3870598077774048\n",
      "==> EPOCH[12](55/59): LOSS: 0.3827578127384186\n",
      "=====> EPOCH[12] Completed: Avg. LOSS: 0.38041291853128856\n",
      "\n",
      "==> EPOCH[13](5/59): LOSS: 0.3783186674118042\n",
      "==> EPOCH[13](10/59): LOSS: 0.37554997205734253\n",
      "==> EPOCH[13](15/59): LOSS: 0.3776852786540985\n",
      "==> EPOCH[13](20/59): LOSS: 0.375130295753479\n",
      "==> EPOCH[13](25/59): LOSS: 0.3787374496459961\n",
      "==> EPOCH[13](30/59): LOSS: 0.381675660610199\n",
      "==> EPOCH[13](35/59): LOSS: 0.3768332004547119\n",
      "==> EPOCH[13](40/59): LOSS: 0.3912161886692047\n",
      "==> EPOCH[13](45/59): LOSS: 0.3845424950122833\n",
      "==> EPOCH[13](50/59): LOSS: 0.35872796177864075\n",
      "==> EPOCH[13](55/59): LOSS: 0.3627464175224304\n",
      "=====> EPOCH[13] Completed: Avg. LOSS: 0.3803137853994208\n",
      "\n",
      "==> EPOCH[14](5/59): LOSS: 0.36485111713409424\n",
      "==> EPOCH[14](10/59): LOSS: 0.37876224517822266\n",
      "==> EPOCH[14](15/59): LOSS: 0.36897626519203186\n",
      "==> EPOCH[14](20/59): LOSS: 0.3708985149860382\n",
      "==> EPOCH[14](25/59): LOSS: 0.3823850750923157\n",
      "==> EPOCH[14](30/59): LOSS: 0.3764292001724243\n",
      "==> EPOCH[14](35/59): LOSS: 0.3665992021560669\n",
      "==> EPOCH[14](40/59): LOSS: 0.4008272886276245\n",
      "==> EPOCH[14](45/59): LOSS: 0.3790499269962311\n",
      "==> EPOCH[14](50/59): LOSS: 0.37050214409828186\n",
      "==> EPOCH[14](55/59): LOSS: 0.3726913630962372\n",
      "=====> EPOCH[14] Completed: Avg. LOSS: 0.38021691976967503\n",
      "\n",
      "==> EPOCH[15](5/59): LOSS: 0.3724915683269501\n",
      "==> EPOCH[15](10/59): LOSS: 0.37506625056266785\n",
      "==> EPOCH[15](15/59): LOSS: 0.3587208092212677\n",
      "==> EPOCH[15](20/59): LOSS: 0.3800898790359497\n"
     ]
    },
    {
     "name": "stdout",
     "output_type": "stream",
     "text": [
      "==> EPOCH[15](25/59): LOSS: 0.3816039562225342\n",
      "==> EPOCH[15](30/59): LOSS: 0.3754428029060364\n",
      "==> EPOCH[15](35/59): LOSS: 0.36900588870048523\n",
      "==> EPOCH[15](40/59): LOSS: 0.3932681381702423\n",
      "==> EPOCH[15](45/59): LOSS: 0.37762799859046936\n",
      "==> EPOCH[15](50/59): LOSS: 0.3705005645751953\n",
      "==> EPOCH[15](55/59): LOSS: 0.3644530475139618\n",
      "=====> EPOCH[15] Completed: Avg. LOSS: 0.38020595807140156\n",
      "\n",
      "==> EPOCH[16](5/59): LOSS: 0.3858593702316284\n",
      "==> EPOCH[16](10/59): LOSS: 0.36046406626701355\n",
      "==> EPOCH[16](15/59): LOSS: 0.3827281594276428\n",
      "==> EPOCH[16](20/59): LOSS: 0.3577369153499603\n",
      "==> EPOCH[16](25/59): LOSS: 0.3624385595321655\n",
      "==> EPOCH[16](30/59): LOSS: 0.3869953453540802\n",
      "==> EPOCH[16](35/59): LOSS: 0.3887266516685486\n",
      "==> EPOCH[16](40/59): LOSS: 0.40283799171447754\n",
      "==> EPOCH[16](45/59): LOSS: 0.3701143264770508\n",
      "==> EPOCH[16](50/59): LOSS: 0.39139115810394287\n"
     ]
    },
    {
     "ename": "KeyboardInterrupt",
     "evalue": "",
     "output_type": "error",
     "traceback": [
      "\u001b[0;31m---------------------------------------------------------------------------\u001b[0m",
      "\u001b[0;31mKeyboardInterrupt\u001b[0m                         Traceback (most recent call last)",
      "\u001b[0;32m<ipython-input-14-2da0ffaf5447>\u001b[0m in \u001b[0;36m<module>\u001b[0;34m\u001b[0m\n\u001b[0;32m----> 1\u001b[0;31m \u001b[0mtrain\u001b[0m\u001b[0;34m(\u001b[0m\u001b[0;34m)\u001b[0m\u001b[0;34m\u001b[0m\u001b[0;34m\u001b[0m\u001b[0m\n\u001b[0m",
      "\u001b[0;32m<ipython-input-6-0589b05f4e35>\u001b[0m in \u001b[0;36mtrain\u001b[0;34m(epochs)\u001b[0m\n\u001b[1;32m     18\u001b[0m             \u001b[0mmu\u001b[0m\u001b[0;34m,\u001b[0m \u001b[0mlogvar\u001b[0m\u001b[0;34m,\u001b[0m \u001b[0mz\u001b[0m\u001b[0;34m,\u001b[0m \u001b[0mrecon\u001b[0m \u001b[0;34m=\u001b[0m \u001b[0mnet\u001b[0m\u001b[0;34m(\u001b[0m\u001b[0mimages\u001b[0m\u001b[0;34m)\u001b[0m\u001b[0;34m\u001b[0m\u001b[0;34m\u001b[0m\u001b[0m\n\u001b[1;32m     19\u001b[0m             \u001b[0;31m# Compute Loss\u001b[0m\u001b[0;34m\u001b[0m\u001b[0;34m\u001b[0m\u001b[0;34m\u001b[0m\u001b[0m\n\u001b[0;32m---> 20\u001b[0;31m             \u001b[0mloss_value\u001b[0m \u001b[0;34m=\u001b[0m \u001b[0mnet\u001b[0m\u001b[0;34m.\u001b[0m\u001b[0mloss_function\u001b[0m\u001b[0;34m(\u001b[0m\u001b[0mimages\u001b[0m\u001b[0;34m,\u001b[0m \u001b[0mrecon\u001b[0m\u001b[0;34m,\u001b[0m \u001b[0mmu\u001b[0m\u001b[0;34m,\u001b[0m \u001b[0mlogvar\u001b[0m\u001b[0;34m)\u001b[0m\u001b[0;34m\u001b[0m\u001b[0;34m\u001b[0m\u001b[0m\n\u001b[0m\u001b[1;32m     21\u001b[0m             \u001b[0mrunning_loss\u001b[0m \u001b[0;34m+=\u001b[0m \u001b[0mloss_value\u001b[0m\u001b[0;34m.\u001b[0m\u001b[0mitem\u001b[0m\u001b[0;34m(\u001b[0m\u001b[0;34m)\u001b[0m\u001b[0;34m\u001b[0m\u001b[0;34m\u001b[0m\u001b[0m\n\u001b[1;32m     22\u001b[0m             \u001b[0;31m# Backward\u001b[0m\u001b[0;34m\u001b[0m\u001b[0;34m\u001b[0m\u001b[0;34m\u001b[0m\u001b[0m\n",
      "\u001b[0;32m/notebooks/Font-Generator/neural/models/vae.py\u001b[0m in \u001b[0;36mloss_function\u001b[0;34m(self, x, recon_x, mu, logvar)\u001b[0m\n\u001b[1;32m     86\u001b[0m \u001b[0;34m\u001b[0m\u001b[0m\n\u001b[1;32m     87\u001b[0m     \u001b[0;32mdef\u001b[0m \u001b[0mloss_function\u001b[0m\u001b[0;34m(\u001b[0m\u001b[0mself\u001b[0m\u001b[0;34m,\u001b[0m \u001b[0mx\u001b[0m\u001b[0;34m,\u001b[0m \u001b[0mrecon_x\u001b[0m\u001b[0;34m,\u001b[0m \u001b[0mmu\u001b[0m\u001b[0;34m,\u001b[0m \u001b[0mlogvar\u001b[0m\u001b[0;34m)\u001b[0m\u001b[0;34m:\u001b[0m\u001b[0;34m\u001b[0m\u001b[0;34m\u001b[0m\u001b[0m\n\u001b[0;32m---> 88\u001b[0;31m         \u001b[0mBCE\u001b[0m \u001b[0;34m=\u001b[0m \u001b[0mF\u001b[0m\u001b[0;34m.\u001b[0m\u001b[0mbinary_cross_entropy\u001b[0m\u001b[0;34m(\u001b[0m\u001b[0mrecon_x\u001b[0m\u001b[0;34m,\u001b[0m \u001b[0mx\u001b[0m\u001b[0;34m,\u001b[0m \u001b[0mreduction\u001b[0m\u001b[0;34m=\u001b[0m\u001b[0;34m'mean'\u001b[0m\u001b[0;34m)\u001b[0m\u001b[0;34m\u001b[0m\u001b[0;34m\u001b[0m\u001b[0m\n\u001b[0m\u001b[1;32m     89\u001b[0m \u001b[0;34m\u001b[0m\u001b[0m\n\u001b[1;32m     90\u001b[0m         \u001b[0;31m# see Appendix B from VAE paper:\u001b[0m\u001b[0;34m\u001b[0m\u001b[0;34m\u001b[0m\u001b[0;34m\u001b[0m\u001b[0m\n",
      "\u001b[0;32m/usr/local/lib/python3.6/dist-packages/torch/nn/functional.py\u001b[0m in \u001b[0;36mbinary_cross_entropy\u001b[0;34m(input, target, weight, size_average, reduce, reduction)\u001b[0m\n\u001b[1;32m   2049\u001b[0m \u001b[0;34m\u001b[0m\u001b[0m\n\u001b[1;32m   2050\u001b[0m     return torch._C._nn.binary_cross_entropy(\n\u001b[0;32m-> 2051\u001b[0;31m         input, target, weight, reduction_enum)\n\u001b[0m\u001b[1;32m   2052\u001b[0m \u001b[0;34m\u001b[0m\u001b[0m\n\u001b[1;32m   2053\u001b[0m \u001b[0;34m\u001b[0m\u001b[0m\n",
      "\u001b[0;31mKeyboardInterrupt\u001b[0m: "
     ]
    }
   ],
   "source": [
    "train()"
   ]
  },
  {
   "cell_type": "code",
   "execution_count": 15,
   "metadata": {},
   "outputs": [],
   "source": [
    "torch.save(net.state_dict(), open('./checkpoints/vae_loss_038.pth', 'wb'))"
   ]
  },
  {
   "cell_type": "code",
   "execution_count": null,
   "metadata": {},
   "outputs": [],
   "source": []
  }
 ],
 "metadata": {
  "kernelspec": {
   "display_name": "Python 3",
   "language": "python",
   "name": "python3"
  },
  "language_info": {
   "codemirror_mode": {
    "name": "ipython",
    "version": 3
   },
   "file_extension": ".py",
   "mimetype": "text/x-python",
   "name": "python",
   "nbconvert_exporter": "python",
   "pygments_lexer": "ipython3",
   "version": "3.6.8"
  }
 },
 "nbformat": 4,
 "nbformat_minor": 4
}
